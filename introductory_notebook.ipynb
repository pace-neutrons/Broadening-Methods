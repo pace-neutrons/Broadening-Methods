{
 "cells": [
  {
   "cell_type": "markdown",
   "metadata": {},
   "source": [
    "Fast Adaptive Broadening\n",
    "\n",
    "- Introduce problem\n",
    "- Outline reference method, why this is slow (order of operations)\n",
    "- Faster approximate method, based off of linearity of operations - use basic linear interpolation for demonstration"
   ]
  }
 ],
 "metadata": {
  "language_info": {
   "name": "python"
  },
  "orig_nbformat": 4
 },
 "nbformat": 4,
 "nbformat_minor": 2
}
