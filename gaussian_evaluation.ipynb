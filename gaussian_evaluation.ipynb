{
 "cells": [
  {
   "cell_type": "markdown",
   "metadata": {},
   "source": [
    "Investigating speed of scipy.stats.norm vs custom gaussian function"
   ]
  },
  {
   "cell_type": "code",
   "execution_count": 2,
   "metadata": {},
   "outputs": [],
   "source": [
    "import numpy as np\n",
    "from scipy.stats import norm\n",
    "\n",
    "def gaussian(xvals, sigma, centre=0):\n",
    "    # evaluate gaussian function with defined sigma and center at x\n",
    "    gauss_eval = np.exp(-0.5 * ((xvals - centre) / sigma)**2) \\\n",
    "                    / (sigma * np.sqrt(2 * np.pi))\n",
    "    return gauss_eval\n"
   ]
  },
  {
   "cell_type": "markdown",
   "metadata": {},
   "source": [
    "Firstly, we can time both functions with arguments similar in size to those used within `fast_broaden.find_coeffs`"
   ]
  },
  {
   "cell_type": "code",
   "execution_count": 3,
   "metadata": {},
   "outputs": [],
   "source": [
    "xvals = np.linspace(0,100,101)\n",
    "sigma = np.linspace(1, 5, 10)"
   ]
  },
  {
   "cell_type": "code",
   "execution_count": 4,
   "metadata": {},
   "outputs": [
    {
     "name": "stdout",
     "output_type": "stream",
     "text": [
      "17.2 µs ± 436 ns per loop (mean ± std. dev. of 7 runs, 100000 loops each)\n"
     ]
    }
   ],
   "source": [
    "%timeit gaussian(xvals, sigma[:,np.newaxis])"
   ]
  },
  {
   "cell_type": "code",
   "execution_count": 5,
   "metadata": {},
   "outputs": [
    {
     "name": "stdout",
     "output_type": "stream",
     "text": [
      "81.7 µs ± 565 ns per loop (mean ± std. dev. of 7 runs, 10000 loops each)\n"
     ]
    }
   ],
   "source": [
    "%timeit norm.pdf(xvals, scale=sigma[:,np.newaxis])"
   ]
  },
  {
   "cell_type": "markdown",
   "metadata": {},
   "source": [
    "For these inputs, the custom gaussian function is the faster option. Next, we can test how the speed of the functions scales when the length of the xvals array increases."
   ]
  },
  {
   "cell_type": "code",
   "execution_count": 6,
   "metadata": {},
   "outputs": [
    {
     "data": {
      "image/png": "[encoded data removed]",
      "text/plain": [
       "<Figure size 432x288 with 1 Axes>"
      ]
     },
     "metadata": {
      "needs_background": "light"
     },
     "output_type": "display_data"
    }
   ],
   "source": [
    "import matplotlib.pyplot as plt\n",
    "import timeit\n",
    "\n",
    "sigma = np.linspace(1, 10, 30)\n",
    "lengths = np.arange(500,7000,500)\n",
    "\n",
    "plt.figure()\n",
    "\n",
    "for l in lengths:\n",
    "    xvals = np.linspace(0, 1000, l)\n",
    "\n",
    "    def run_gaussian():\n",
    "        gaussian(xvals, sigma[:,np.newaxis])\n",
    "\n",
    "    def run_norm_pdf():\n",
    "        norm.pdf(xvals, scale=sigma[:,np.newaxis])\n",
    "\n",
    "    run_time_gauss = timeit.Timer(stmt=run_gaussian).repeat(5,1)\n",
    "    run_time_norm = timeit.Timer(stmt=run_norm_pdf).repeat(5,1)\n",
    "\n",
    "    plt.plot(l, np.mean(run_time_gauss),'r.')\n",
    "    plt.plot(l, np.mean(run_time_norm),'b.')    \n"
   ]
  },
  {
   "cell_type": "markdown",
   "metadata": {},
   "source": [
    "Regardless of the length of the xvals array, the custom gaussian function is faster. Finally, it should be checked that the two functions produce the same output"
   ]
  },
  {
   "cell_type": "code",
   "execution_count": 11,
   "metadata": {},
   "outputs": [
    {
     "name": "stdout",
     "output_type": "stream",
     "text": [
      "True\n"
     ]
    }
   ],
   "source": [
    "xvals = np.linspace(-5,5,101)\n",
    "sigma = 2\n",
    "scipy_norm = norm.pdf(xvals, scale=sigma)\n",
    "gaussian_eval = gaussian(xvals, sigma)\n",
    "\n",
    "test = gaussian_eval.all() == scipy_norm.all()\n",
    "\n",
    "print(test)"
   ]
  }
 ],
 "metadata": {
  "interpreter": {
   "hash": "31f2aee4e71d21fbe5cf8b01ff0e069b9275f58929596ceb00d14d90e3e16cd6"
  },
  "kernelspec": {
   "display_name": "Python 3.8.10 64-bit",
   "language": "python",
   "name": "python3"
  },
  "language_info": {
   "codemirror_mode": {
    "name": "ipython",
    "version": 3
   },
   "file_extension": ".py",
   "mimetype": "text/x-python",
   "name": "python",
   "nbconvert_exporter": "python",
   "pygments_lexer": "ipython3",
   "version": "3.8.10"
  },
  "orig_nbformat": 4
 },
 "nbformat": 4,
 "nbformat_minor": 2
}
