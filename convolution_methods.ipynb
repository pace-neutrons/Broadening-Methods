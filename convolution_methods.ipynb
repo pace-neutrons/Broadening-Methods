{
 "cells": [
  {
   "cell_type": "markdown",
   "metadata": {},
   "source": [
    "Notebook to investigate using direct convolution vs fft convolution"
   ]
  },
  {
   "cell_type": "code",
   "execution_count": 8,
   "metadata": {},
   "outputs": [],
   "source": [
    "import numpy as np\n",
    "from scipy.signal import convolve"
   ]
  },
  {
   "cell_type": "code",
   "execution_count": 9,
   "metadata": {},
   "outputs": [],
   "source": [
    "from euphonic.cli.utils import (load_data_from_file, _grid_spec_from_args, _get_energy_bins)\n",
    "from euphonic.util import mp_grid, mode_gradients_to_widths\n",
    "from euphonic import ureg\n",
    "from typing import Optional\n",
    "from scipy.optimize import nnls\n",
    "import warnings; warnings.simplefilter('ignore')\n",
    "\n",
    "def import_real_data(filename, grid_space):\n",
    "    data = load_data_from_file(filename)\n",
    "\n",
    "    recip_length_unit = ureg('1 /angstrom')\n",
    "    grid_spec = _grid_spec_from_args(data.crystal, grid=None,\n",
    "                                        grid_spacing=(grid_space\n",
    "                                                    * recip_length_unit))\n",
    "\n",
    "    # for adaptive broadening\n",
    "    modes, mode_grads = data.calculate_qpoint_phonon_modes(mp_grid(grid_spec), return_mode_gradients=True)\n",
    "    mode_widths = mode_gradients_to_widths(mode_grads, modes.crystal.cell_vectors)\n",
    "\n",
    "    modes.frequencies_unit = 'hartree'\n",
    "    return modes, mode_widths\n",
    "\n",
    "def bin_data(modes, bin_no):\n",
    "\n",
    "    bin_no = int(bin_no+1)\n",
    "    ebins = _get_energy_bins(modes, bin_no)\n",
    "\n",
    "    dos = modes._calculate_dos(ebins)\n",
    "    bins = ebins.to('hartree').magnitude\n",
    "    bin_mp = bins[:-1] + 0.5*np.diff(bins)\n",
    "    freqs = modes.frequencies.magnitude\n",
    "\n",
    "    return dos, bins, bin_mp, freqs\n",
    "\n",
    "modes, mode_widths = import_real_data('/home/jessfarmer/Broadening_Methods/Data/mp-147-20180417.yaml', 0.1)\n",
    "data_real, bins_real, bin_mp_real, frequencies_real = bin_data(modes, 5000)\n",
    "mode_weights = np.ones(frequencies_real.shape)\n",
    "\n",
    "mode_widths = mode_widths.to('hartree').magnitude\n",
    "\n",
    "n_qpts = len(frequencies_real)\n",
    "weights = np.full(n_qpts, 1/n_qpts)\n",
    "\n",
    "def fast_broaden(bins_real, frequencies_real, mode_widths, weights, mode_weights, conv_method):\n",
    "    freqs = np.ravel(frequencies_real)\n",
    "    mode_widths = np.ravel(mode_widths)\n",
    "    combined_weights = np.ravel(mode_weights * weights[:, np.newaxis])\n",
    "\n",
    "    # coefficients determined from a polynomial fit to plot of\n",
    "    # error vs spacing value\n",
    "    spacing = np.polyval([656.1, -131.8, 15.98, 1.0803], 0.01)\n",
    "    bin_width = bins_real[1]-bins_real[0]\n",
    "    mode_widths = np.maximum(mode_widths, bin_width / 2)\n",
    "\n",
    "    n_kernels = int(\n",
    "        np.ceil(np.log(max(mode_widths)/min(mode_widths))/np.log(spacing)))\n",
    "    mode_width_samples = spacing**np.arange(n_kernels+1)*min(mode_widths)\n",
    "    # Determine frequency range for gaussian kernel, the choice of\n",
    "    # 3*max(sigma) is arbitrary but tuned for acceptable error/peformance\n",
    "    freq_range = 3*max(mode_widths)\n",
    "\n",
    "    kernel_npts_oneside = np.ceil(freq_range/bin_width)\n",
    "    kernels = gaussian(np.arange(-kernel_npts_oneside,\n",
    "                        kernel_npts_oneside+1, 1)*bin_width,\n",
    "                        mode_width_samples[:, np.newaxis])*bin_width\n",
    "    kernels_idx = np.searchsorted(mode_width_samples, mode_widths)\n",
    "\n",
    "    lower_coeffs = find_coeffs(spacing)\n",
    "    scaled_data_matrix = np.zeros((len(bins_real)-1, len(kernels)))\n",
    "    # start loop from 1 as points with insert-position 0 lie outside of bin range\n",
    "    for i in range(1, len(mode_width_samples)):\n",
    "        masked_block = (kernels_idx == i)\n",
    "        sigma_factors = mode_widths[masked_block]/mode_width_samples[i-1]\n",
    "        lower_mix = np.polyval(lower_coeffs, sigma_factors)\n",
    "        upper_mix = 1-lower_mix\n",
    "\n",
    "        lower_hist, _ = np.histogram(\n",
    "            freqs[masked_block], bins=bins_real,\n",
    "            weights=lower_mix*combined_weights[masked_block]/bin_width)\n",
    "        upper_hist, _ = np.histogram(\n",
    "            freqs[masked_block], bins=bins_real,\n",
    "            weights=upper_mix*combined_weights[masked_block]/bin_width)\n",
    "\n",
    "        scaled_data_matrix[:, i-1] += lower_hist\n",
    "        scaled_data_matrix[:, i] += upper_hist\n",
    "\n",
    "    dos = np.sum([convolve(scaled_data_matrix[:, i], kernels[i],\n",
    "                 mode=\"same\", method=conv_method) for i in range(0, n_kernels)], 0)\n",
    "    return dos\n",
    "\n",
    "def gaussian(xvals: np.ndarray,\n",
    "             sigma: np.ndarray,\n",
    "             centre: Optional[int] = 0) -> np.ndarray:\n",
    "    \"\"\"\n",
    "    Evaluates the Gaussian function.\n",
    "    Parameters\n",
    "    ----------\n",
    "    xvals\n",
    "        Float ndarray. Points at which the Gaussian function should be\n",
    "        evaluated\n",
    "    sigma\n",
    "        Float ndarray. Specifies the standard deviation for the gaussian\n",
    "    centre\n",
    "        Optional integer value that sets the centre of the gaussian\n",
    "    Returns\n",
    "    -------\n",
    "    gauss_eval\n",
    "        Float ndarray containing the values of the evaluated gaussian function\n",
    "    \"\"\"\n",
    "    # evaluate gaussian function with defined sigma and center at x\n",
    "    gauss_eval = np.exp(-0.5 * ((xvals - centre) / sigma)**2) \\\n",
    "                    / (sigma * np.sqrt(2 * np.pi))\n",
    "    return gauss_eval\n",
    "\n",
    "\n",
    "def find_coeffs(spacing: float) -> np.ndarray:\n",
    "    \"\"\"\"\n",
    "    Function that, for a given spacing value, gives the coefficients of the\n",
    "    polynomial which decsribes the relationship between sigma and the\n",
    "    linear combination weights determined by optimised interpolation\n",
    "\n",
    "    Parameters\n",
    "    ----------\n",
    "    spacing\n",
    "        Scalar float. The spacing value between sigma samples at which\n",
    "        the gaussian kernel is exactly calculated.\n",
    "\n",
    "    Returns\n",
    "    -------\n",
    "    coeffs\n",
    "        Array containing the polynomial coefficients, with the highest\n",
    "        power first\n",
    "    \"\"\"\n",
    "    sigma_values = np.linspace(1, spacing, 10)\n",
    "    x_range = np.linspace(-10, 10, 101)\n",
    "    actual_gaussians = gaussian(x_range, sigma_values[:,np.newaxis])\n",
    "    lower_mix = np.zeros(len(sigma_values))\n",
    "    ref_gaussians = actual_gaussians[[0, -1]].T\n",
    "\n",
    "    for i in range(len(sigma_values)):\n",
    "        actual_gaussian = actual_gaussians[i]\n",
    "        res = nnls(ref_gaussians, actual_gaussian)[0]\n",
    "        lower_mix[i] = res[0]\n",
    "\n",
    "    coeffs = np.polyfit(sigma_values, lower_mix, 3)\n",
    "    return coeffs\n"
   ]
  },
  {
   "cell_type": "markdown",
   "metadata": {},
   "source": [
    "Firstly, we can time the difference between using direct vs fft convolution. It can be seen that fft is slightly faster in this case, and choosing either the fft or direct method is faster than choosing the auto method which selects either fft or direct depending on the given inputs."
   ]
  },
  {
   "cell_type": "code",
   "execution_count": 10,
   "metadata": {},
   "outputs": [
    {
     "name": "stdout",
     "output_type": "stream",
     "text": [
      "47.1 ms ± 1.01 ms per loop (mean ± std. dev. of 7 runs, 10 loops each)\n"
     ]
    }
   ],
   "source": [
    "%timeit fast_broaden(bins_real, frequencies_real, mode_widths, weights, mode_weights, \"direct\")"
   ]
  },
  {
   "cell_type": "code",
   "execution_count": 11,
   "metadata": {},
   "outputs": [
    {
     "name": "stdout",
     "output_type": "stream",
     "text": [
      "42.5 ms ± 1.4 ms per loop (mean ± std. dev. of 7 runs, 10 loops each)\n"
     ]
    }
   ],
   "source": [
    "%timeit fast_broaden(bins_real, frequencies_real, mode_widths, weights, mode_weights, \"fft\")"
   ]
  },
  {
   "cell_type": "code",
   "execution_count": 12,
   "metadata": {},
   "outputs": [
    {
     "name": "stdout",
     "output_type": "stream",
     "text": [
      "48.2 ms ± 806 µs per loop (mean ± std. dev. of 7 runs, 10 loops each)\n"
     ]
    }
   ],
   "source": [
    "%timeit fast_broaden(bins_real, frequencies_real, mode_widths, weights, mode_weights, \"auto\")"
   ]
  },
  {
   "cell_type": "markdown",
   "metadata": {},
   "source": [
    "The plot below illustrates how the speed of convolution varies with both the data used, and the number of bins. In general, the fft method scales better when the number of bins are increased."
   ]
  },
  {
   "cell_type": "code",
   "execution_count": 16,
   "metadata": {},
   "outputs": [
    {
     "data": {
      "image/png": "[encoded data removed]",
      "text/plain": [
       "<Figure size 432x288 with 1 Axes>"
      ]
     },
     "metadata": {
      "needs_background": "light"
     },
     "output_type": "display_data"
    }
   ],
   "source": [
    "import timeit\n",
    "import matplotlib.pyplot as plt\n",
    "\n",
    "filenames = ['mp-147-20180417.yaml', 'mp-200-20180417.yaml', 'mp-226-20180417.yaml',\n",
    "            'mp-661-20180417.yaml', 'mp-830-20180417.yaml', 'mp-917-20180417.yaml',\n",
    "            'mp-1818-20180417.yaml', 'mp-2319-20180417.yaml', 'mp-7041-20180417.yaml']\n",
    "\n",
    "plt.figure()\n",
    "\n",
    "for (filename, colour) in zip(filenames, ['C1','C2','C3','C4','C5','C6','C7','C8','C9']):\n",
    "\n",
    "    save_times_direct = []\n",
    "    save_times_fft = []\n",
    "    modes, mode_widths = import_real_data('/home/jessfarmer/Broadening_Methods/Data/'+filename, 0.1)\n",
    "    mode_widths = mode_widths.to('hartree').magnitude\n",
    "    for bin_no in np.linspace(1000,10000, 4):\n",
    "\n",
    "        data_real, bins_real, bin_mp_real, frequencies_real = bin_data(modes, bin_no)\n",
    "\n",
    "        mode_weights = np.ones(frequencies_real.shape)\n",
    "\n",
    "        n_qpts = len(frequencies_real)\n",
    "        weights = np.full(n_qpts, 1/n_qpts)\n",
    "\n",
    "        def run_fun_direct():\n",
    "            fast_broaden(bins_real, frequencies_real, mode_widths, weights, mode_weights, \"direct\")\n",
    "\n",
    "        run_time_direct = timeit.Timer(stmt=run_fun_direct).repeat(5,1)\n",
    "\n",
    "        def run_fun_fft():\n",
    "            fast_broaden(bins_real, frequencies_real, mode_widths, weights, mode_weights, \"fft\")\n",
    "\n",
    "        run_time_fft = timeit.Timer(stmt=run_fun_fft).repeat(5,1)\n",
    "\n",
    "        save_times_direct.append(np.mean(run_time_direct))\n",
    "        save_times_fft.append(np.mean(run_time_fft))\n",
    "\n",
    "    plt.plot(np.linspace(1000,10000, 4), save_times_direct, colour, linestyle='--')\n",
    "    plt.plot(np.linspace(1000,10000, 4), save_times_fft, colour)\n"
   ]
  },
  {
   "cell_type": "markdown",
   "metadata": {},
   "source": [
    "Finally, it should be checked that the two methods produce similar results. Over the 9 different datasets tested, the largest difference between the two convolved spectra was 3.49e-10, meaning the convolution methods produce very similar results."
   ]
  },
  {
   "cell_type": "code",
   "execution_count": 14,
   "metadata": {},
   "outputs": [
    {
     "name": "stdout",
     "output_type": "stream",
     "text": [
      "2.9103830456733704e-11\n",
      "3.4924596548080444e-10\n",
      "5.820766091346741e-11\n",
      "1.0913936421275139e-11\n",
      "1.0913936421275139e-11\n",
      "2.9103830456733704e-11\n",
      "4.3655745685100555e-11\n",
      "1.0913936421275139e-11\n",
      "2.1827872842550278e-11\n"
     ]
    }
   ],
   "source": [
    "for filename in filenames:\n",
    "    modes, mode_widths = import_real_data('/home/jessfarmer/Broadening_Methods/Data/'+filename, 0.1)\n",
    "    mode_widths = mode_widths.to('hartree').magnitude\n",
    "\n",
    "    data_real, bins_real, bin_mp_real, frequencies_real = bin_data(modes, bin_no)\n",
    "\n",
    "    mode_weights = np.ones(frequencies_real.shape)\n",
    "\n",
    "    n_qpts = len(frequencies_real)\n",
    "    weights = np.full(n_qpts, 1/n_qpts)\n",
    "\n",
    "    dos_fft = fast_broaden(bins_real, frequencies_real, mode_widths, weights, mode_weights, \"direct\")\n",
    "\n",
    "    dos_direct = fast_broaden(bins_real, frequencies_real, mode_widths, weights, mode_weights, \"fft\")\n",
    "\n",
    "    diff = abs(dos_fft-dos_direct)\n",
    "\n",
    "    max_diff = max(diff)\n",
    "    print(max_diff)"
   ]
  }
 ],
 "metadata": {
  "interpreter": {
   "hash": "31f2aee4e71d21fbe5cf8b01ff0e069b9275f58929596ceb00d14d90e3e16cd6"
  },
  "kernelspec": {
   "display_name": "Python 3.8.10 64-bit",
   "language": "python",
   "name": "python3"
  },
  "language_info": {
   "codemirror_mode": {
    "name": "ipython",
    "version": 3
   },
   "file_extension": ".py",
   "mimetype": "text/x-python",
   "name": "python",
   "nbconvert_exporter": "python",
   "pygments_lexer": "ipython3",
   "version": "3.8.10"
  },
  "orig_nbformat": 4
 },
 "nbformat": 4,
 "nbformat_minor": 2
}
